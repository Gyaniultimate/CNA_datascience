{
  "nbformat": 4,
  "nbformat_minor": 0,
  "metadata": {
    "anaconda-cloud": {},
    "kernelspec": {
      "display_name": "Python 3",
      "language": "python",
      "name": "python3"
    },
    "language_info": {
      "codemirror_mode": {
        "name": "ipython",
        "version": 3
      },
      "file_extension": ".py",
      "mimetype": "text/x-python",
      "name": "python",
      "nbconvert_exporter": "python",
      "pygments_lexer": "ipython3",
      "version": "3.7.4"
    },
    "colab": {
      "name": "Basic_Data_Analysis_Assignment_2.ipynb",
      "provenance": [],
      "collapsed_sections": []
    }
  },
  "cells": [
    {
      "cell_type": "markdown",
      "metadata": {
        "id": "BVS91IxrmlZa"
      },
      "source": [
        "# Summer Analytics 2021 - Basic Data Analysis"
      ]
    },
    {
      "cell_type": "markdown",
      "metadata": {
        "id": "h5RsCZqvmlZg"
      },
      "source": [
        "- #### Welcome to your second assignment, on basic data analysis!\n",
        "- #### This Assignment is ungraded\n",
        "\n",
        "\n",
        "\n"
      ]
    },
    {
      "cell_type": "markdown",
      "metadata": {
        "id": "KI7i51VOmlZh"
      },
      "source": [
        "### 1) Import Pandas and Numpy"
      ]
    },
    {
      "cell_type": "code",
      "metadata": {
        "id": "W7bzVDGemlZh"
      },
      "source": [
        "import pandas as pd\n",
        "import numpy as np\n"
      ],
      "execution_count": 1,
      "outputs": []
    },
    {
      "cell_type": "markdown",
      "metadata": {
        "id": "79TqQiQVmlZi"
      },
      "source": [
        "### 2) Import the dataset and  Assign it to a variable called Chipo\n",
        "\n",
        "#### Import the dataset from this url 'https://raw.githubusercontent.com/justmarkham/DAT8/master/data/chipotle.tsv '\n",
        "#### REMEMBER: It is a .tsv file , you will have to do some research on how to read .tsv files first!"
      ]
    },
    {
      "cell_type": "code",
      "metadata": {
        "id": "wD3SElRSmlZi",
        "outputId": "7da30d8a-890f-4d73-97c4-c94a4869e983",
        "colab": {
          "base_uri": "https://localhost:8080/",
          "height": 402
        }
      },
      "source": [
        "Chipo = pd.read_csv(\"https://raw.githubusercontent.com/justmarkham/DAT8/master/data/chipotle.tsv\",delimiter='\\t')\n",
        "Chipo"
      ],
      "execution_count": 2,
      "outputs": [
        {
          "output_type": "execute_result",
          "data": {
            "text/html": [
              "<div>\n",
              "<style scoped>\n",
              "    .dataframe tbody tr th:only-of-type {\n",
              "        vertical-align: middle;\n",
              "    }\n",
              "\n",
              "    .dataframe tbody tr th {\n",
              "        vertical-align: top;\n",
              "    }\n",
              "\n",
              "    .dataframe thead th {\n",
              "        text-align: right;\n",
              "    }\n",
              "</style>\n",
              "<table border=\"1\" class=\"dataframe\">\n",
              "  <thead>\n",
              "    <tr style=\"text-align: right;\">\n",
              "      <th></th>\n",
              "      <th>order_id</th>\n",
              "      <th>quantity</th>\n",
              "      <th>item_name</th>\n",
              "      <th>choice_description</th>\n",
              "      <th>item_price</th>\n",
              "    </tr>\n",
              "  </thead>\n",
              "  <tbody>\n",
              "    <tr>\n",
              "      <th>0</th>\n",
              "      <td>1</td>\n",
              "      <td>1</td>\n",
              "      <td>Chips and Fresh Tomato Salsa</td>\n",
              "      <td>NaN</td>\n",
              "      <td>$2.39</td>\n",
              "    </tr>\n",
              "    <tr>\n",
              "      <th>1</th>\n",
              "      <td>1</td>\n",
              "      <td>1</td>\n",
              "      <td>Izze</td>\n",
              "      <td>[Clementine]</td>\n",
              "      <td>$3.39</td>\n",
              "    </tr>\n",
              "    <tr>\n",
              "      <th>2</th>\n",
              "      <td>1</td>\n",
              "      <td>1</td>\n",
              "      <td>Nantucket Nectar</td>\n",
              "      <td>[Apple]</td>\n",
              "      <td>$3.39</td>\n",
              "    </tr>\n",
              "    <tr>\n",
              "      <th>3</th>\n",
              "      <td>1</td>\n",
              "      <td>1</td>\n",
              "      <td>Chips and Tomatillo-Green Chili Salsa</td>\n",
              "      <td>NaN</td>\n",
              "      <td>$2.39</td>\n",
              "    </tr>\n",
              "    <tr>\n",
              "      <th>4</th>\n",
              "      <td>2</td>\n",
              "      <td>2</td>\n",
              "      <td>Chicken Bowl</td>\n",
              "      <td>[Tomatillo-Red Chili Salsa (Hot), [Black Beans...</td>\n",
              "      <td>$16.98</td>\n",
              "    </tr>\n",
              "    <tr>\n",
              "      <th>...</th>\n",
              "      <td>...</td>\n",
              "      <td>...</td>\n",
              "      <td>...</td>\n",
              "      <td>...</td>\n",
              "      <td>...</td>\n",
              "    </tr>\n",
              "    <tr>\n",
              "      <th>4617</th>\n",
              "      <td>1833</td>\n",
              "      <td>1</td>\n",
              "      <td>Steak Burrito</td>\n",
              "      <td>[Fresh Tomato Salsa, [Rice, Black Beans, Sour ...</td>\n",
              "      <td>$11.75</td>\n",
              "    </tr>\n",
              "    <tr>\n",
              "      <th>4618</th>\n",
              "      <td>1833</td>\n",
              "      <td>1</td>\n",
              "      <td>Steak Burrito</td>\n",
              "      <td>[Fresh Tomato Salsa, [Rice, Sour Cream, Cheese...</td>\n",
              "      <td>$11.75</td>\n",
              "    </tr>\n",
              "    <tr>\n",
              "      <th>4619</th>\n",
              "      <td>1834</td>\n",
              "      <td>1</td>\n",
              "      <td>Chicken Salad Bowl</td>\n",
              "      <td>[Fresh Tomato Salsa, [Fajita Vegetables, Pinto...</td>\n",
              "      <td>$11.25</td>\n",
              "    </tr>\n",
              "    <tr>\n",
              "      <th>4620</th>\n",
              "      <td>1834</td>\n",
              "      <td>1</td>\n",
              "      <td>Chicken Salad Bowl</td>\n",
              "      <td>[Fresh Tomato Salsa, [Fajita Vegetables, Lettu...</td>\n",
              "      <td>$8.75</td>\n",
              "    </tr>\n",
              "    <tr>\n",
              "      <th>4621</th>\n",
              "      <td>1834</td>\n",
              "      <td>1</td>\n",
              "      <td>Chicken Salad Bowl</td>\n",
              "      <td>[Fresh Tomato Salsa, [Fajita Vegetables, Pinto...</td>\n",
              "      <td>$8.75</td>\n",
              "    </tr>\n",
              "  </tbody>\n",
              "</table>\n",
              "<p>4622 rows × 5 columns</p>\n",
              "</div>"
            ],
            "text/plain": [
              "      order_id  ...  item_price\n",
              "0            1  ...      $2.39 \n",
              "1            1  ...      $3.39 \n",
              "2            1  ...      $3.39 \n",
              "3            1  ...      $2.39 \n",
              "4            2  ...     $16.98 \n",
              "...        ...  ...         ...\n",
              "4617      1833  ...     $11.75 \n",
              "4618      1833  ...     $11.75 \n",
              "4619      1834  ...     $11.25 \n",
              "4620      1834  ...      $8.75 \n",
              "4621      1834  ...      $8.75 \n",
              "\n",
              "[4622 rows x 5 columns]"
            ]
          },
          "metadata": {
            "tags": []
          },
          "execution_count": 2
        }
      ]
    },
    {
      "cell_type": "markdown",
      "metadata": {
        "id": "R7CI2qVumlZi"
      },
      "source": [
        "### 3) See the first 10 entries"
      ]
    },
    {
      "cell_type": "code",
      "metadata": {
        "scrolled": false,
        "id": "of9AsfcqmlZj",
        "outputId": "48a20ea1-698a-4ff6-9ebc-568f04fdc4ca",
        "colab": {
          "base_uri": "https://localhost:8080/",
          "height": 343
        }
      },
      "source": [
        "Chipo[:10]"
      ],
      "execution_count": 3,
      "outputs": [
        {
          "output_type": "execute_result",
          "data": {
            "text/html": [
              "<div>\n",
              "<style scoped>\n",
              "    .dataframe tbody tr th:only-of-type {\n",
              "        vertical-align: middle;\n",
              "    }\n",
              "\n",
              "    .dataframe tbody tr th {\n",
              "        vertical-align: top;\n",
              "    }\n",
              "\n",
              "    .dataframe thead th {\n",
              "        text-align: right;\n",
              "    }\n",
              "</style>\n",
              "<table border=\"1\" class=\"dataframe\">\n",
              "  <thead>\n",
              "    <tr style=\"text-align: right;\">\n",
              "      <th></th>\n",
              "      <th>order_id</th>\n",
              "      <th>quantity</th>\n",
              "      <th>item_name</th>\n",
              "      <th>choice_description</th>\n",
              "      <th>item_price</th>\n",
              "    </tr>\n",
              "  </thead>\n",
              "  <tbody>\n",
              "    <tr>\n",
              "      <th>0</th>\n",
              "      <td>1</td>\n",
              "      <td>1</td>\n",
              "      <td>Chips and Fresh Tomato Salsa</td>\n",
              "      <td>NaN</td>\n",
              "      <td>$2.39</td>\n",
              "    </tr>\n",
              "    <tr>\n",
              "      <th>1</th>\n",
              "      <td>1</td>\n",
              "      <td>1</td>\n",
              "      <td>Izze</td>\n",
              "      <td>[Clementine]</td>\n",
              "      <td>$3.39</td>\n",
              "    </tr>\n",
              "    <tr>\n",
              "      <th>2</th>\n",
              "      <td>1</td>\n",
              "      <td>1</td>\n",
              "      <td>Nantucket Nectar</td>\n",
              "      <td>[Apple]</td>\n",
              "      <td>$3.39</td>\n",
              "    </tr>\n",
              "    <tr>\n",
              "      <th>3</th>\n",
              "      <td>1</td>\n",
              "      <td>1</td>\n",
              "      <td>Chips and Tomatillo-Green Chili Salsa</td>\n",
              "      <td>NaN</td>\n",
              "      <td>$2.39</td>\n",
              "    </tr>\n",
              "    <tr>\n",
              "      <th>4</th>\n",
              "      <td>2</td>\n",
              "      <td>2</td>\n",
              "      <td>Chicken Bowl</td>\n",
              "      <td>[Tomatillo-Red Chili Salsa (Hot), [Black Beans...</td>\n",
              "      <td>$16.98</td>\n",
              "    </tr>\n",
              "    <tr>\n",
              "      <th>5</th>\n",
              "      <td>3</td>\n",
              "      <td>1</td>\n",
              "      <td>Chicken Bowl</td>\n",
              "      <td>[Fresh Tomato Salsa (Mild), [Rice, Cheese, Sou...</td>\n",
              "      <td>$10.98</td>\n",
              "    </tr>\n",
              "    <tr>\n",
              "      <th>6</th>\n",
              "      <td>3</td>\n",
              "      <td>1</td>\n",
              "      <td>Side of Chips</td>\n",
              "      <td>NaN</td>\n",
              "      <td>$1.69</td>\n",
              "    </tr>\n",
              "    <tr>\n",
              "      <th>7</th>\n",
              "      <td>4</td>\n",
              "      <td>1</td>\n",
              "      <td>Steak Burrito</td>\n",
              "      <td>[Tomatillo Red Chili Salsa, [Fajita Vegetables...</td>\n",
              "      <td>$11.75</td>\n",
              "    </tr>\n",
              "    <tr>\n",
              "      <th>8</th>\n",
              "      <td>4</td>\n",
              "      <td>1</td>\n",
              "      <td>Steak Soft Tacos</td>\n",
              "      <td>[Tomatillo Green Chili Salsa, [Pinto Beans, Ch...</td>\n",
              "      <td>$9.25</td>\n",
              "    </tr>\n",
              "    <tr>\n",
              "      <th>9</th>\n",
              "      <td>5</td>\n",
              "      <td>1</td>\n",
              "      <td>Steak Burrito</td>\n",
              "      <td>[Fresh Tomato Salsa, [Rice, Black Beans, Pinto...</td>\n",
              "      <td>$9.25</td>\n",
              "    </tr>\n",
              "  </tbody>\n",
              "</table>\n",
              "</div>"
            ],
            "text/plain": [
              "   order_id  ...  item_price\n",
              "0         1  ...      $2.39 \n",
              "1         1  ...      $3.39 \n",
              "2         1  ...      $3.39 \n",
              "3         1  ...      $2.39 \n",
              "4         2  ...     $16.98 \n",
              "5         3  ...     $10.98 \n",
              "6         3  ...      $1.69 \n",
              "7         4  ...     $11.75 \n",
              "8         4  ...      $9.25 \n",
              "9         5  ...      $9.25 \n",
              "\n",
              "[10 rows x 5 columns]"
            ]
          },
          "metadata": {
            "tags": []
          },
          "execution_count": 3
        }
      ]
    },
    {
      "cell_type": "markdown",
      "metadata": {
        "id": "0rBhn2qZmlZj"
      },
      "source": [
        "### 4) What is the number of observations in the dataset?"
      ]
    },
    {
      "cell_type": "code",
      "metadata": {
        "id": "-1SC1x2dmlZj",
        "outputId": "b96cb4e9-32d7-4ceb-9271-ebdadadfa311",
        "colab": {
          "base_uri": "https://localhost:8080/"
        }
      },
      "source": [
        "Chipo.shape[0]"
      ],
      "execution_count": 4,
      "outputs": [
        {
          "output_type": "execute_result",
          "data": {
            "text/plain": [
              "4622"
            ]
          },
          "metadata": {
            "tags": []
          },
          "execution_count": 4
        }
      ]
    },
    {
      "cell_type": "markdown",
      "metadata": {
        "id": "j7RaUNL7mlZj"
      },
      "source": [
        "### 5) What is the number of columns in the dataset?"
      ]
    },
    {
      "cell_type": "code",
      "metadata": {
        "id": "iHObV4jBmlZk",
        "outputId": "b42916e0-4c26-4e10-c4b3-fbfefb31edb9",
        "colab": {
          "base_uri": "https://localhost:8080/"
        }
      },
      "source": [
        "Chipo.shape[1]"
      ],
      "execution_count": 5,
      "outputs": [
        {
          "output_type": "execute_result",
          "data": {
            "text/plain": [
              "5"
            ]
          },
          "metadata": {
            "tags": []
          },
          "execution_count": 5
        }
      ]
    },
    {
      "cell_type": "markdown",
      "metadata": {
        "id": "PhUt_caomlZk"
      },
      "source": [
        "### 6) Print the name of all the columns."
      ]
    },
    {
      "cell_type": "code",
      "metadata": {
        "id": "mOZSqJtimlZk",
        "outputId": "47491dc4-0bd7-44d0-8ec6-813d2668797c",
        "colab": {
          "base_uri": "https://localhost:8080/"
        }
      },
      "source": [
        "Chipo.columns"
      ],
      "execution_count": 6,
      "outputs": [
        {
          "output_type": "execute_result",
          "data": {
            "text/plain": [
              "Index(['order_id', 'quantity', 'item_name', 'choice_description',\n",
              "       'item_price'],\n",
              "      dtype='object')"
            ]
          },
          "metadata": {
            "tags": []
          },
          "execution_count": 6
        }
      ]
    },
    {
      "cell_type": "markdown",
      "metadata": {
        "id": "ZvJrCW4RmlZk"
      },
      "source": [
        "### 7) Which was the most-ordered item? "
      ]
    },
    {
      "cell_type": "code",
      "metadata": {
        "id": "ToRjoQ4KmlZk"
      },
      "source": [
        ""
      ],
      "execution_count": null,
      "outputs": []
    },
    {
      "cell_type": "markdown",
      "metadata": {
        "id": "OJqo6oGFmlZl"
      },
      "source": [
        "### 8) For the most-ordered item, how many items were ordered?"
      ]
    },
    {
      "cell_type": "code",
      "metadata": {
        "id": "e80jObKAmlZl"
      },
      "source": [
        ""
      ],
      "execution_count": null,
      "outputs": []
    },
    {
      "cell_type": "markdown",
      "metadata": {
        "id": "djD1uMajmlZl"
      },
      "source": [
        "### 9) What was the most ordered item in the choice_description column?"
      ]
    },
    {
      "cell_type": "code",
      "metadata": {
        "id": "udGSOJ7UmlZl",
        "outputId": "2d53af94-c654-41f2-fe4d-f5a7ad955c81",
        "colab": {
          "base_uri": "https://localhost:8080/",
          "height": 35
        }
      },
      "source": [
        "Chipo.choice_description.value_counts().head(1).index[0]\n"
      ],
      "execution_count": 13,
      "outputs": [
        {
          "output_type": "execute_result",
          "data": {
            "application/vnd.google.colaboratory.intrinsic+json": {
              "type": "string"
            },
            "text/plain": [
              "'[Diet Coke]'"
            ]
          },
          "metadata": {
            "tags": []
          },
          "execution_count": 13
        }
      ]
    },
    {
      "cell_type": "markdown",
      "metadata": {
        "id": "dJwiFc_umlZm"
      },
      "source": [
        "### 10) How many items were ordered in total?"
      ]
    },
    {
      "cell_type": "code",
      "metadata": {
        "id": "TnDdqj2kmlZm",
        "outputId": "ccb722fc-72a0-4973-eb05-f8fdead348eb",
        "colab": {
          "base_uri": "https://localhost:8080/"
        }
      },
      "source": [
        "s=0;\n",
        "for i in Chipo.quantity:\n",
        "  s=s+i\n",
        "print(s)\n"
      ],
      "execution_count": 14,
      "outputs": [
        {
          "output_type": "stream",
          "text": [
            "4972\n"
          ],
          "name": "stdout"
        }
      ]
    },
    {
      "cell_type": "markdown",
      "metadata": {
        "id": "b6jd11bYmlZm"
      },
      "source": [
        "### 11) Turn the item price into a float"
      ]
    },
    {
      "cell_type": "code",
      "metadata": {
        "id": "dd0ivpj8mlZm"
      },
      "source": [
        "####easy"
      ],
      "execution_count": 27,
      "outputs": []
    },
    {
      "cell_type": "markdown",
      "metadata": {
        "id": "DRETO0SGmlZm"
      },
      "source": [
        "### 12) How much was the revenue for the period in the dataset?\n",
        "#### Revenue will be the sum of quantity * item_price!"
      ]
    },
    {
      "cell_type": "code",
      "metadata": {
        "id": "3kIogdd7mlZm",
        "outputId": "418c8f63-480f-49ee-955b-a3c53d0a5199",
        "colab": {
          "base_uri": "https://localhost:8080/"
        }
      },
      "source": [
        "s=0\n",
        "for i in range(0,Chipo.shape[0]):\n",
        "  s=s+Chipo.quantity.iloc[0]*float(Chipo.item_price.iloc[0][1:])\n",
        "print(s)\n"
      ],
      "execution_count": 24,
      "outputs": [
        {
          "output_type": "stream",
          "text": [
            "11046.579999999794\n"
          ],
          "name": "stdout"
        }
      ]
    },
    {
      "cell_type": "markdown",
      "metadata": {
        "id": "963tji0amlZn"
      },
      "source": [
        "### 13) How many orders were made in the period?"
      ]
    },
    {
      "cell_type": "code",
      "metadata": {
        "id": "3nytKBUgmlZn"
      },
      "source": [
        "##easy"
      ],
      "execution_count": null,
      "outputs": []
    },
    {
      "cell_type": "markdown",
      "metadata": {
        "id": "lU71tTXJmlZn"
      },
      "source": [
        "### 14) What is the average revenue amount per order?"
      ]
    },
    {
      "cell_type": "code",
      "metadata": {
        "id": "MwzvsBoLmlZn",
        "outputId": "dcf31b2e-20e7-49ed-fc0e-0654077de8b5",
        "colab": {
          "base_uri": "https://localhost:8080/"
        }
      },
      "source": [
        "print(\"$\"+str(s/Chipo.shape[0]))"
      ],
      "execution_count": 33,
      "outputs": [
        {
          "output_type": "stream",
          "text": [
            "$2.3899999999999557\n"
          ],
          "name": "stdout"
        }
      ]
    },
    {
      "cell_type": "markdown",
      "metadata": {
        "id": "HALZkMKvmlZn"
      },
      "source": [
        "### 15) How many different items are sold?"
      ]
    },
    {
      "cell_type": "code",
      "metadata": {
        "id": "CFO7KOwQmlZo"
      },
      "source": [
        "#easy"
      ],
      "execution_count": null,
      "outputs": []
    }
  ]
}